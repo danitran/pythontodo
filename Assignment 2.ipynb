{
 "cells": [
  {
   "cell_type": "code",
   "execution_count": 10,
   "id": "e7c406d9",
   "metadata": {
    "scrolled": true
   },
   "outputs": [
    {
     "name": "stdout",
     "output_type": "stream",
     "text": [
      "The result of the calculation was: 149769\n"
     ]
    }
   ],
   "source": [
    "first_number = 100;\n",
    "second_number = 29; \n",
    "result = (first_number + second_number) * 3;\n",
    "second_exponent = result ** 2;\n",
    "print(\"The result of the calculation was:\", second_exponent);"
   ]
  },
  {
   "cell_type": "code",
   "execution_count": 23,
   "id": "dee491a7",
   "metadata": {},
   "outputs": [
    {
     "name": "stdout",
     "output_type": "stream",
     "text": [
      "Name: John\n",
      "Year of birt: 1995\n",
      "Age: 26\n",
      "Password:  95Joh676\n"
     ]
    }
   ],
   "source": [
    "name = input(\"Name: \");\n",
    "year_of_birt = int(input(\"Year of birt: \"));\n",
    "age = int(input(\"Age: \"));\n",
    "omg = str(year_of_birt)[-2:];\n",
    "omn = str(name)[:3];\n",
    "oma = str(age**2);\n",
    "pass_word = omg + omn + oma;\n",
    "print(\"Password: \", pass_word);"
   ]
  },
  {
   "cell_type": "code",
   "execution_count": 45,
   "id": "357e8a14",
   "metadata": {},
   "outputs": [
    {
     "name": "stdout",
     "output_type": "stream",
     "text": [
      "First number: 5\n",
      "Second number: 6\n",
      "One of the numbers is even\n"
     ]
    }
   ],
   "source": [
    "def check_even_odd(num1, num2):\n",
    "    if num1 % 2 == 0 and num2 % 2 == 0:\n",
    "        print(\"Both numbers are even\")\n",
    "    elif num1 % 2 == 0 or num2 % 2 == 0:\n",
    "        print(\"One of the numbers is even\")\n",
    "    else:\n",
    "        print(\"Both numbers are odd\")\n",
    "\n",
    "num1 = int(input(\"First number: \"))\n",
    "num2 = int(input(\"Second number: \"))\n",
    "\n",
    "check_even_odd(num1, num2)\n"
   ]
  },
  {
   "cell_type": "code",
   "execution_count": 49,
   "id": "27c34b7e",
   "metadata": {},
   "outputs": [
    {
     "name": "stdout",
     "output_type": "stream",
     "text": [
      "Give an integer: 5\n",
      "The sum was 10\n"
     ]
    }
   ],
   "source": [
    "num = int(input(\"Give an integer: \"))\n",
    "\n",
    "if num < 0:\n",
    "    print(\"Please enter a positive number.\")\n",
    "else:\n",
    "    result = sum(range(num))\n",
    "    print(\"The sum was\", result)"
   ]
  },
  {
   "cell_type": "code",
   "execution_count": 66,
   "id": "0c07f016",
   "metadata": {},
   "outputs": [
    {
     "name": "stdout",
     "output_type": "stream",
     "text": [
      "Give an integer: 2\n",
      "Player: 7\n",
      "Try a smaller number.\n",
      "Player: 5\n",
      "That’s right! Number of tries: . 2\n"
     ]
    }
   ],
   "source": [
    "num = int(input(\"Give an integer: \"))\n",
    "\n",
    "dealer_num = random.randint(0, 10)\n",
    "tries = 0\n",
    "\n",
    "while True:\n",
    "    player_num = int(input(\"Player: \"))\n",
    "    tries += 1\n",
    "    if player_num < dealer_num:\n",
    "        print(\"Try a greater number. \")\n",
    "    elif player_num > dealer_num:\n",
    "        print(\"Try a smaller number.\")\n",
    "    else:\n",
    "        print(\"That’s right! Number of tries: .\", tries)\n",
    "    \n",
    "        break"
   ]
  },
  {
   "cell_type": "code",
   "execution_count": null,
   "id": "c82eb212",
   "metadata": {},
   "outputs": [],
   "source": [
    "Tai Tran\n",
    "Dani"
   ]
  },
  {
   "cell_type": "code",
   "execution_count": null,
   "id": "8e2f160d",
   "metadata": {},
   "outputs": [],
   "source": []
  }
 ],
 "metadata": {
  "kernelspec": {
   "display_name": "Python 3 (ipykernel)",
   "language": "python",
   "name": "python3"
  },
  "language_info": {
   "codemirror_mode": {
    "name": "ipython",
    "version": 3
   },
   "file_extension": ".py",
   "mimetype": "text/x-python",
   "name": "python",
   "nbconvert_exporter": "python",
   "pygments_lexer": "ipython3",
   "version": "3.11.5"
  }
 },
 "nbformat": 4,
 "nbformat_minor": 5
}
